{
 "cells": [
  {
   "cell_type": "code",
   "execution_count": 1,
   "metadata": {},
   "outputs": [],
   "source": [
    "import json\n",
    "\n",
    "# Load the original JSON data\n",
    "with open('./data/isaacsim/openpose_label/COCO/Camera0/rgb_0025_keypoints.json', 'r') as f:\n",
    "    original_data = json.load(f)\n",
    "\n",
    "frame_id = 25\n",
    "\n",
    "# Create a new JSON structure\n",
    "new_json = {\n",
    "    \"joint_type\": \"Shelf\",\n",
    "    \"bodies\": []\n",
    "}\n",
    "\n",
    "# Iterate through each person's keypoints\n",
    "for person_id, person in enumerate(original_data['people']):\n",
    "    # Extract x, y coordinates for the first 14 keypoints\n",
    "    x_coords = person['pose_keypoints_2d'][:42:3]\n",
    "    y_coords = person['pose_keypoints_2d'][1:42:3]\n",
    "\n",
    "    # Create a new body entry with grouped x and y coordinates\n",
    "    body = {\n",
    "        \"id\": person_id,\n",
    "        \"joints\": [x_coords, y_coords]\n",
    "    }\n",
    "\n",
    "    # Append the body entry to the new JSON structure\n",
    "    new_json[\"bodies\"].append(body)\n",
    "\n",
    "# Generate the new filename based on frame_id\n",
    "    new_filename = str(frame_id).zfill(8) + '.json'\n",
    "\n",
    "# Write the new JSON structure to the generated filename\n",
    "with open(new_filename, 'w') as new_file:\n",
    "    json.dump(new_json, new_file, indent=4)\n"
   ]
  }
 ],
 "metadata": {
  "kernelspec": {
   "display_name": "recon",
   "language": "python",
   "name": "python3"
  },
  "language_info": {
   "codemirror_mode": {
    "name": "ipython",
    "version": 3
   },
   "file_extension": ".py",
   "mimetype": "text/x-python",
   "name": "python",
   "nbconvert_exporter": "python",
   "pygments_lexer": "ipython3",
   "version": "3.10.4"
  },
  "orig_nbformat": 4
 },
 "nbformat": 4,
 "nbformat_minor": 2
}
